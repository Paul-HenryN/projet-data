{
 "cells": [
  {
   "attachments": {},
   "cell_type": "markdown",
   "metadata": {},
   "source": [
    "# <b>LINEAR OPTIMIZATION PROBLEM</b>\n",
    "\n",
    "The Travelling Salesman Problem (TSP) can be formulated as a linear optimization problem as follows :\n",
    "### <b> Objective function </b>\n",
    "\n",
    "The main aim of the TSP is to minimize the total distance or cost of the tour. This can be translated into the following equation :\n",
    "$$z = \\sum_{i=0}^{n}\\sum_{j=0}^{n} c_{i} x_{ij}$$\n",
    "\n",
    "### <b> Decision Variables </b>\n",
    "\n",
    "While considering the above formula of the objective function, we have as decision variables :\n",
    "+ i and j which represent two cities of an undirected and complete graph G\n",
    "+ $c_{ij}$ which represents the distance between the two cities i and j in G\n",
    "+ $x_{ij}$ which represents a binary variable that takes value 1 if the salesman travels from city i to city j and 0 otherwise\n",
    "\n",
    "### <b>Constraints</b>\n",
    "\n",
    "+ Each city should be visited exactly once :\n",
    "$$\\sum_{j=1}^{n} x_{ij} = 1$$  \n",
    "$\\forall$  $i \\in {1,2,...,n}$  \n",
    "\n",
    "+ The salesman must leave and arrive at the same city :\n",
    "$$\\sum_{i=1}^{n} x_{ij} = 1$$  \n",
    "$\\forall$  $ j \\in {1,2,...,n}$ \n",
    "\n",
    "+ Subtour elimination constraints :\n",
    "\n",
    "These constraints ensure that no subtours (a subset of cities that are visited together) are formed in the tour. \n",
    "\n",
    "These constraints can be written as :\n",
    "\n",
    "$u_{i} - u_{j} + nx_{ij} \\leq n-1$\n",
    "\n",
    "$\\forall$  $i, j \\in {1,2,...,n}$  where $u_{i}$ represents the position of city i in the tour."
   ]
  }
 ],
 "metadata": {
  "language_info": {
   "name": "python"
  },
  "orig_nbformat": 4
 },
 "nbformat": 4,
 "nbformat_minor": 2
}
