{
 "cells": [
  {
   "attachments": {},
   "cell_type": "markdown",
   "metadata": {},
   "source": [
    "# <b>Predictive Statistical Study</b>\n",
    "\n",
    "To Evaluate the performance of our algorithm and then extrapolate on larger instances, we can use the linear regression between any of the study caracters To do so, the code is as follows :"
   ]
  },
  {
   "cell_type": "code",
   "execution_count": null,
   "metadata": {
    "vscode": {
     "languageId": "ruby"
    }
   },
   "outputs": [],
   "source": [
    "install.packages(ggplot2)\n",
    "# import the sample and set the path\n",
    "path_file = \"path/to/excel/file\"\n",
    "\n",
    "# set the file name as the current variable\n",
    "attach(path_file)\n",
    "\n",
    "# calculate the linear regression between two caracters\n",
    "fit <- lm(first_carater ~ second_caracter, file_name)\n",
    "\n",
    "# draw the linear regression between two caracters\n",
    "plot(first_caracter, second_ caracter)\n",
    "albine(fit)\n",
    "\n",
    "ggplot(path_file, aes(x = first_caracter, y = second_carater)) + geom_point() + geom_smooth(method = \"lm\") \n",
    "\n",
    "# predict values for larger instances\n",
    "predict(fit, newdata = new_value_first_caracter)"
   ]
  },
  {
   "attachments": {},
   "cell_type": "markdown",
   "metadata": {},
   "source": [
    "For instance, in order to predict the performance of our solving algorithm even for large number of cities we can use the following code :"
   ]
  },
  {
   "cell_type": "code",
   "execution_count": null,
   "metadata": {
    "vscode": {
     "languageId": "ruby"
    }
   },
   "outputs": [],
   "source": [
    "install.packages(ggplot2)\n",
    "# import the sample and set the path\n",
    "path_file = \"path/to/sample.xlsx\"\n",
    "\n",
    "# set the file name as the current variable\n",
    "attach(path_file)\n",
    "\n",
    "# calculate the linear regression between two caracters\n",
    "fit <- lm(Convergence_Time ~ Clients_no, sample)\n",
    "\n",
    "# draw the linear regression between two caracters\n",
    "plot(Clients_no, Convergence_Time)\n",
    "albine(fit)\n",
    "\n",
    "ggplot(path_file, aes(x = Clients_no, y = Convergenc_Time)) + geom_point() + geom_smooth(method = \"lm\") \n",
    "\n",
    "# predict values for larger instances\n",
    "predict(fit, newdata = 50)"
   ]
  }
 ],
 "metadata": {
  "language_info": {
   "name": "python"
  },
  "orig_nbformat": 4
 },
 "nbformat": 4,
 "nbformat_minor": 2
}
