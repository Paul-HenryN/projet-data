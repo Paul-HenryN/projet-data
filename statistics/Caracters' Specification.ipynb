{
 "cells": [
  {
   "attachments": {},
   "cell_type": "markdown",
   "metadata": {},
   "source": [
    "# Statistical Caracters\n",
    "    In order to be able to measure the efficiency or quality of our chosen algorithm to solve the VRP Problem, we will carry out a statistical descriptive\n",
    "    study of the solution we put in place. As such, it is necessary to first of all determine the caracters which will be used as a base for our statistical \n",
    "    measures as well as an upcoming statistical predictive study.\n",
    "    \n",
    "## Number of vehicles\n",
    "    This caracter will permit us to compare the different solutions taking into account the varrying number of vehicles we set at the departure of the \n",
    "    algorithm.\n",
    "    \n",
    "## Number of Iterations\n",
    "    This caracter will enable us to know the number of iterations which permitted our algorithm to find the optimal solution. As such, we will be able to \n",
    "    use it as unit of comparism in our sample.\n",
    "    \n",
    "## Number of clients\n",
    "    The number of clients which is equally the number of vertices to cover in the sub-graph will change for each individual of the sample. As such, it can\n",
    "    be used to compare the efficiency of our algorithm.\n",
    "    \n",
    "## Covered distance\n",
    "    Which is the sum of the weight of the path chosen by the algorithm in the subgraph.\n",
    "    \n",
    "## Convergence Time\n",
    "    This is the time taken by our algorithm for each individual of our sample to find the optimal solution. We should note that it is one of the main\n",
    "    factors which will permit us to determine the efficiency of our solution.\n",
    "    \n",
    "## Memory Storage\n",
    "    This is the amount of memory storage used by the algorithm in order to achieve its execution. It is a sum of the the different data types multiplied\n",
    "    by the number of elements using these data types. Note here that, it varries throughout the algorithm and may be increasing as well as reducing (such\n",
    "    as deleting an element or a variable from the data type.) "
   ]
  }
 ],
 "metadata": {
  "kernelspec": {
   "display_name": "Python 3",
   "language": "python",
   "name": "python3"
  },
  "language_info": {
   "codemirror_mode": {
    "name": "ipython",
    "version": 3
   },
   "file_extension": ".py",
   "mimetype": "text/x-python",
   "name": "python",
   "nbconvert_exporter": "python",
   "pygments_lexer": "ipython3",
   "version": "3.11.3"
  },
  "orig_nbformat": 4
 },
 "nbformat": 4,
 "nbformat_minor": 2
}
